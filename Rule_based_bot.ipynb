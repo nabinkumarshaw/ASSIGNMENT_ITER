{
  "nbformat": 4,
  "nbformat_minor": 0,
  "metadata": {
    "colab": {
      "provenance": [],
      "authorship_tag": "ABX9TyOAdfvnHv+bYQcf+1U8nmW4",
      "include_colab_link": true
    },
    "kernelspec": {
      "name": "python3",
      "display_name": "Python 3"
    },
    "language_info": {
      "name": "python"
    }
  },
  "cells": [
    {
      "cell_type": "markdown",
      "metadata": {
        "id": "view-in-github",
        "colab_type": "text"
      },
      "source": [
        "<a href=\"https://colab.research.google.com/github/nabinkumarshaw/ASSIGNMENT_ITER/blob/main/Rule_based_bot.ipynb\" target=\"_parent\"><img src=\"https://colab.research.google.com/assets/colab-badge.svg\" alt=\"Open In Colab\"/></a>"
      ]
    },
    {
      "cell_type": "code",
      "execution_count": 1,
      "metadata": {
        "id": "wd7_GezVXYRZ"
      },
      "outputs": [],
      "source": [
        "import re\n",
        "import random\n"
      ]
    },
    {
      "cell_type": "code",
      "source": [
        "class RuleBot:\n",
        "  ### potential negative response\n",
        "  negative_response = (\"no\", \"nope\", \"nah\", \"naw\", \"not a chance\",\"sorry\")\n",
        "  ### Exit conversation Keywords\n",
        "  exit_commands = (\"quit\", \"pause\", \"exit\", \"bye\", \"goodbye\", \"later\")\n",
        "  ### Random starter conversation\n",
        "  random_questions = (\n",
        "      \"Why are you here? \",\n",
        "      \"Are there many human likes you? \",\n",
        "      \"What do you consume for sustenance? \",\n",
        "      \"Is there intelligent life on this planet? \",\n",
        "      \"Does Earth have a leader? \",\n",
        "      \"What Planets have you visited? \",\n",
        "      \"What technology do you have on this planet? \"\n",
        "  )\n",
        "\n",
        "  def __init__(self):\n",
        "    self.alienbabble = {'describe_planet_intent': r'.*\\s*your planet.*',\n",
        "                        'answer_why_intent': r'why\\sare.*',\n",
        "                        'about_intellipat': r'.*\\s*intellipaat',\n",
        "                        'about_session': r'.*\\s*session'\n",
        "                        }\n",
        "\n",
        "  def greet(self):\n",
        "    self.name = input(\"What is your name?\\n\")\n",
        "    will_help = input(\n",
        "        f\"Hi {self.name}, I am Rule-Bot. Will you help me learn about your planet?\\n\")\n",
        "    if will_help in self.negative_response:\n",
        "      print(\"Ok, have a nice Earth day!\")\n",
        "      return\n",
        "    self.chat()\n",
        "\n",
        "  def make_exit(self, reply):\n",
        "    for command in self.exit_commands:\n",
        "      if reply == command:\n",
        "        print(\"Okay, have a nice Earth day!\")\n",
        "        return True\n",
        "\n",
        "\n",
        "  def chat(self):\n",
        "    reply = input(random.choice(self.random_questions)).lower()\n",
        "    while not self.make_exit(reply):\n",
        "      reply = input(self.match_reply(reply))\n",
        "\n",
        "  def match_reply(self , reply):\n",
        "    for key, value in self.alienbabble.items():\n",
        "      intent = key\n",
        "      regex_pattern = value\n",
        "      found_match =re.match(regex_pattern, reply)\n",
        "      if found_match and intent == 'describe_planet_intent':\n",
        "        return self.describe_planet_intent()\n",
        "      elif found_match and intent == 'answer_why_intent':\n",
        "        return self.answer_why_intent()\n",
        "      elif found_match and intent == 'about_intellipat':\n",
        "        return self.about_intellipat()\n",
        "      elif found_match and intent == 'about_session':\n",
        "        return self.about_session()\n",
        "    if not found_match:\n",
        "      return self.no_match_intent()\n",
        "\n",
        "  def describe_planet_intent(self):\n",
        "    responses =(\"My planet is a utopia of diverse organisms and species.\\n\",\n",
        "                \"I am from Opidipus, the capital of the Wayward Galaxies.\\n\")\n",
        "    return random.choice(responses)\n",
        "\n",
        "  def answer_why_intent(self):\n",
        "    responses = (\"I come in peace\\n\", \"I am here to collect data on your panets and its Inhabitants\\n\",\n",
        "                 \"I heared the coffee is good\\n\")\n",
        "    return random.choice(responses)\n",
        "\n",
        "  def about_intellipat(self):\n",
        "    responses = (\"Intellipaat is world's largest professionals educational company\\n\", \"Intellipaat will make you learn concepts in the way needed\",\n",
        "                 \"Intellipaat is where your carrear and skill grows\\n\")\n",
        "    return random.choice(responses)\n",
        "\n",
        "  def about_session(self):\n",
        "    responses = (\"This is a great session\",\n",
        "                 \"I enjoyed this session\")\n",
        "    return random.choice(responses)\n",
        "\n",
        "  def no_match_intent(self):\n",
        "    responses = (\n",
        "        \"Please tell me more.\\n\", \"Tell me more!\\n\", \"Why do you say that?\\n\", \"I see. can you elaborate>\\n\",\n",
        "        \"Interesting. can you tell me more?\\n\", \"I see. How do you think?\\n\", \"Why?\\n\",\n",
        "        \"How do you think I feel when you say that?\\n\")\n",
        "    return random.choice(responses)\n",
        "\n",
        "AlienBot = RuleBot()\n",
        "AlienBot.greet()\n"
      ],
      "metadata": {
        "id": "dpMCUvGYYMI4"
      },
      "execution_count": null,
      "outputs": []
    }
  ]
}